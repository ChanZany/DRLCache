{
 "cells": [
  {
   "cell_type": "code",
   "execution_count": 3,
   "metadata": {},
   "outputs": [],
   "source": [
    "import pandas as pd\n",
    "import numpy as np"
   ]
  },
  {
   "cell_type": "code",
   "execution_count": 149,
   "metadata": {},
   "outputs": [],
   "source": [
    "cache_size = 50"
   ]
  },
  {
   "cell_type": "code",
   "execution_count": 169,
   "metadata": {},
   "outputs": [
    {
     "name": "stdout",
     "output_type": "stream",
     "text": [
      "0.5866\n"
     ]
    }
   ],
   "source": [
    "hit_num = 0\n",
    "\n",
    "cache_dict = {}\n",
    "cache_empty = np.zeros(cache_size)\n",
    "used_time = np.zeros(cache_size)\n",
    "\n",
    "\n",
    "requests = np.random.zipf(1.3, 10000)\n",
    "# requests = pd.read_csv('../data2.0/filesys/extended/grow-create-persistence.csv')['blocksector'].to_numpy()\n",
    "\n",
    "\n",
    "for index, n in enumerate(requests):\n",
    "    sector = n\n",
    "    \n",
    "    if sector in cache_dict.keys():\n",
    "        hit_num += 1\n",
    "        continue\n",
    "    \n",
    "    empty = np.where(cache_empty == 0)[0]\n",
    "    if empty.shape[0] != 0:\n",
    "        pos = empty[0]\n",
    "        cache_empty[pos] = 1\n",
    "        cache_dict[sector] = pos\n",
    "        used_time[pos] = index\n",
    "    else:\n",
    "        pos = np.argmin(used_time)\n",
    "        for k in cache_dict:\n",
    "            if cache_dict[k] == pos:\n",
    "                del cache_dict[k]\n",
    "                break\n",
    "        cache_dict[sector] = pos\n",
    "        used_time[pos] = index\n",
    "    \n",
    "\n",
    "print(hit_num / requests.shape[0])"
   ]
  },
  {
   "cell_type": "code",
   "execution_count": 168,
   "metadata": {},
   "outputs": [
    {
     "data": {
      "text/plain": [
       "50"
      ]
     },
     "execution_count": 168,
     "metadata": {},
     "output_type": "execute_result"
    }
   ],
   "source": [
    "len(cache_dict)"
   ]
  },
  {
   "cell_type": "code",
   "execution_count": null,
   "metadata": {},
   "outputs": [],
   "source": []
  }
 ],
 "metadata": {
  "kernelspec": {
   "display_name": "Python 3",
   "language": "python",
   "name": "python3"
  },
  "language_info": {
   "codemirror_mode": {
    "name": "ipython",
    "version": 3
   },
   "file_extension": ".py",
   "mimetype": "text/x-python",
   "name": "python",
   "nbconvert_exporter": "python",
   "pygments_lexer": "ipython3",
   "version": "3.7.0"
  }
 },
 "nbformat": 4,
 "nbformat_minor": 4
}
